{
  "cells": [
    {
      "cell_type": "code",
      "execution_count": 1,
      "id": "0f2eae6a",
      "metadata": {
        "execution": {
          "iopub.execute_input": "2021-09-17T14:08:19.020577Z",
          "iopub.status.busy": "2021-09-17T14:08:19.019793Z",
          "iopub.status.idle": "2021-09-17T14:08:20.058203Z",
          "shell.execute_reply": "2021-09-17T14:08:20.057389Z",
          "shell.execute_reply.started": "2021-09-17T14:03:48.566560Z"
        },
        "papermill": {
          "duration": 1.103347,
          "end_time": "2021-09-17T14:08:20.058391",
          "exception": false,
          "start_time": "2021-09-17T14:08:18.955044",
          "status": "completed"
        },
        "tags": [],
        "id": "0f2eae6a"
      },
      "outputs": [],
      "source": [
        "import pandas as pd\n",
        "import numpy as np\n",
        "import seaborn as sns\n",
        "import matplotlib.pyplot as plt\n",
        "from warnings import filterwarnings\n",
        "filterwarnings('ignore')"
      ]
    },
    {
      "cell_type": "code",
      "execution_count": 2,
      "id": "4818cc9c",
      "metadata": {
        "execution": {
          "iopub.execute_input": "2021-09-17T14:08:20.141416Z",
          "iopub.status.busy": "2021-09-17T14:08:20.140676Z",
          "iopub.status.idle": "2021-09-17T14:08:20.173511Z",
          "shell.execute_reply": "2021-09-17T14:08:20.172935Z",
          "shell.execute_reply.started": "2021-09-17T14:03:48.573557Z"
        },
        "papermill": {
          "duration": 0.075226,
          "end_time": "2021-09-17T14:08:20.173674",
          "exception": false,
          "start_time": "2021-09-17T14:08:20.098448",
          "status": "completed"
        },
        "tags": [],
        "id": "4818cc9c"
      },
      "outputs": [],
      "source": [
        "data=pd.read_csv(\"Automobile_data.csv\", na_values=['?', ' ?', '? '])\n",
        "data=data.replace(['?'], np.nan)"
      ]
    },
    {
      "cell_type": "code",
      "execution_count": 3,
      "id": "d6a502ae",
      "metadata": {
        "execution": {
          "iopub.execute_input": "2021-09-17T14:08:20.256794Z",
          "iopub.status.busy": "2021-09-17T14:08:20.256140Z",
          "iopub.status.idle": "2021-09-17T14:08:20.260201Z",
          "shell.execute_reply": "2021-09-17T14:08:20.260993Z",
          "shell.execute_reply.started": "2021-09-17T14:03:48.596248Z"
        },
        "papermill": {
          "duration": 0.046999,
          "end_time": "2021-09-17T14:08:20.261238",
          "exception": false,
          "start_time": "2021-09-17T14:08:20.214239",
          "status": "completed"
        },
        "tags": [],
        "id": "d6a502ae"
      },
      "outputs": [],
      "source": [
        "df=data.copy()"
      ]
    },
    {
      "cell_type": "markdown",
      "id": "1d8e4751",
      "metadata": {
        "papermill": {
          "duration": 0.057978,
          "end_time": "2021-09-17T14:08:20.372359",
          "exception": false,
          "start_time": "2021-09-17T14:08:20.314381",
          "status": "completed"
        },
        "tags": [],
        "id": "1d8e4751"
      },
      "source": [
        "# Data Understanding"
      ]
    },
    {
      "cell_type": "code",
      "execution_count": 4,
      "id": "7ed67efd",
      "metadata": {
        "execution": {
          "iopub.execute_input": "2021-09-17T14:08:20.464327Z",
          "iopub.status.busy": "2021-09-17T14:08:20.463615Z",
          "iopub.status.idle": "2021-09-17T14:08:20.488443Z",
          "shell.execute_reply": "2021-09-17T14:08:20.489048Z",
          "shell.execute_reply.started": "2021-09-17T14:03:48.602496Z"
        },
        "papermill": {
          "duration": 0.068975,
          "end_time": "2021-09-17T14:08:20.489218",
          "exception": false,
          "start_time": "2021-09-17T14:08:20.420243",
          "status": "completed"
        },
        "tags": [],
        "colab": {
          "base_uri": "https://localhost:8080/"
        },
        "id": "7ed67efd",
        "outputId": "5cc97dcc-c721-4d99-e484-5d7ddd945e44"
      },
      "outputs": [
        {
          "output_type": "stream",
          "name": "stdout",
          "text": [
            "<class 'pandas.core.frame.DataFrame'>\n",
            "RangeIndex: 205 entries, 0 to 204\n",
            "Data columns (total 26 columns):\n",
            " #   Column             Non-Null Count  Dtype  \n",
            "---  ------             --------------  -----  \n",
            " 0   symboling          205 non-null    int64  \n",
            " 1   normalized-losses  164 non-null    float64\n",
            " 2   make               205 non-null    object \n",
            " 3   fuel-type          205 non-null    object \n",
            " 4   aspiration         205 non-null    object \n",
            " 5   num-of-doors       203 non-null    object \n",
            " 6   body-style         205 non-null    object \n",
            " 7   drive-wheels       205 non-null    object \n",
            " 8   engine-location    205 non-null    object \n",
            " 9   wheel-base         205 non-null    float64\n",
            " 10  length             205 non-null    float64\n",
            " 11  width              205 non-null    float64\n",
            " 12  height             205 non-null    float64\n",
            " 13  curb-weight        205 non-null    int64  \n",
            " 14  engine-type        205 non-null    object \n",
            " 15  num-of-cylinders   205 non-null    object \n",
            " 16  engine-size        205 non-null    int64  \n",
            " 17  fuel-system        205 non-null    object \n",
            " 18  bore               201 non-null    float64\n",
            " 19  stroke             201 non-null    float64\n",
            " 20  compression-ratio  205 non-null    float64\n",
            " 21  horsepower         203 non-null    float64\n",
            " 22  peak-rpm           203 non-null    float64\n",
            " 23  city-mpg           205 non-null    int64  \n",
            " 24  highway-mpg        205 non-null    int64  \n",
            " 25  price              201 non-null    float64\n",
            "dtypes: float64(11), int64(5), object(10)\n",
            "memory usage: 41.8+ KB\n"
          ]
        }
      ],
      "source": [
        "df.info()"
      ]
    },
    {
      "cell_type": "code",
      "execution_count": 5,
      "id": "55416860",
      "metadata": {
        "execution": {
          "iopub.execute_input": "2021-09-17T14:08:20.578799Z",
          "iopub.status.busy": "2021-09-17T14:08:20.577855Z",
          "iopub.status.idle": "2021-09-17T14:08:20.582043Z",
          "shell.execute_reply": "2021-09-17T14:08:20.582526Z",
          "shell.execute_reply.started": "2021-09-17T14:03:48.626442Z"
        },
        "papermill": {
          "duration": 0.054855,
          "end_time": "2021-09-17T14:08:20.582719",
          "exception": false,
          "start_time": "2021-09-17T14:08:20.527864",
          "status": "completed"
        },
        "tags": [],
        "colab": {
          "base_uri": "https://localhost:8080/"
        },
        "id": "55416860",
        "outputId": "93d774a8-bd56-4295-ba21-46d8642c16ba"
      },
      "outputs": [
        {
          "output_type": "execute_result",
          "data": {
            "text/plain": [
              "(205, 26)"
            ]
          },
          "metadata": {},
          "execution_count": 5
        }
      ],
      "source": [
        "df.shape"
      ]
    },
    {
      "cell_type": "code",
      "execution_count": 6,
      "id": "9ff0f499",
      "metadata": {
        "execution": {
          "iopub.execute_input": "2021-09-17T14:08:20.666896Z",
          "iopub.status.busy": "2021-09-17T14:08:20.666258Z",
          "iopub.status.idle": "2021-09-17T14:08:20.696861Z",
          "shell.execute_reply": "2021-09-17T14:08:20.697312Z",
          "shell.execute_reply.started": "2021-09-17T14:03:48.632532Z"
        },
        "papermill": {
          "duration": 0.076455,
          "end_time": "2021-09-17T14:08:20.697516",
          "exception": false,
          "start_time": "2021-09-17T14:08:20.621061",
          "status": "completed"
        },
        "tags": [],
        "colab": {
          "base_uri": "https://localhost:8080/",
          "height": 449
        },
        "id": "9ff0f499",
        "outputId": "a76051f7-5a68-45c8-e641-042483681b74"
      },
      "outputs": [
        {
          "output_type": "execute_result",
          "data": {
            "text/plain": [
              "   symboling  normalized-losses         make fuel-type aspiration  \\\n",
              "0          3                NaN  alfa-romero       gas        std   \n",
              "1          3                NaN  alfa-romero       gas        std   \n",
              "2          1                NaN  alfa-romero       gas        std   \n",
              "3          2              164.0         audi       gas        std   \n",
              "4          2              164.0         audi       gas        std   \n",
              "5          2                NaN         audi       gas        std   \n",
              "6          1              158.0         audi       gas        std   \n",
              "\n",
              "  num-of-doors   body-style drive-wheels engine-location  wheel-base  ...  \\\n",
              "0          two  convertible          rwd           front        88.6  ...   \n",
              "1          two  convertible          rwd           front        88.6  ...   \n",
              "2          two    hatchback          rwd           front        94.5  ...   \n",
              "3         four        sedan          fwd           front        99.8  ...   \n",
              "4         four        sedan          4wd           front        99.4  ...   \n",
              "5          two        sedan          fwd           front        99.8  ...   \n",
              "6         four        sedan          fwd           front       105.8  ...   \n",
              "\n",
              "   engine-size  fuel-system  bore  stroke compression-ratio horsepower  \\\n",
              "0          130         mpfi  3.47    2.68               9.0      111.0   \n",
              "1          130         mpfi  3.47    2.68               9.0      111.0   \n",
              "2          152         mpfi  2.68    3.47               9.0      154.0   \n",
              "3          109         mpfi  3.19    3.40              10.0      102.0   \n",
              "4          136         mpfi  3.19    3.40               8.0      115.0   \n",
              "5          136         mpfi  3.19    3.40               8.5      110.0   \n",
              "6          136         mpfi  3.19    3.40               8.5      110.0   \n",
              "\n",
              "   peak-rpm city-mpg  highway-mpg    price  \n",
              "0    5000.0       21           27  13495.0  \n",
              "1    5000.0       21           27  16500.0  \n",
              "2    5000.0       19           26  16500.0  \n",
              "3    5500.0       24           30  13950.0  \n",
              "4    5500.0       18           22  17450.0  \n",
              "5    5500.0       19           25  15250.0  \n",
              "6    5500.0       19           25  17710.0  \n",
              "\n",
              "[7 rows x 26 columns]"
            ],
            "text/html": [
              "\n",
              "  <div id=\"df-3d54d2ea-06c9-4b74-a791-b64f206c4f7b\">\n",
              "    <div class=\"colab-df-container\">\n",
              "      <div>\n",
              "<style scoped>\n",
              "    .dataframe tbody tr th:only-of-type {\n",
              "        vertical-align: middle;\n",
              "    }\n",
              "\n",
              "    .dataframe tbody tr th {\n",
              "        vertical-align: top;\n",
              "    }\n",
              "\n",
              "    .dataframe thead th {\n",
              "        text-align: right;\n",
              "    }\n",
              "</style>\n",
              "<table border=\"1\" class=\"dataframe\">\n",
              "  <thead>\n",
              "    <tr style=\"text-align: right;\">\n",
              "      <th></th>\n",
              "      <th>symboling</th>\n",
              "      <th>normalized-losses</th>\n",
              "      <th>make</th>\n",
              "      <th>fuel-type</th>\n",
              "      <th>aspiration</th>\n",
              "      <th>num-of-doors</th>\n",
              "      <th>body-style</th>\n",
              "      <th>drive-wheels</th>\n",
              "      <th>engine-location</th>\n",
              "      <th>wheel-base</th>\n",
              "      <th>...</th>\n",
              "      <th>engine-size</th>\n",
              "      <th>fuel-system</th>\n",
              "      <th>bore</th>\n",
              "      <th>stroke</th>\n",
              "      <th>compression-ratio</th>\n",
              "      <th>horsepower</th>\n",
              "      <th>peak-rpm</th>\n",
              "      <th>city-mpg</th>\n",
              "      <th>highway-mpg</th>\n",
              "      <th>price</th>\n",
              "    </tr>\n",
              "  </thead>\n",
              "  <tbody>\n",
              "    <tr>\n",
              "      <th>0</th>\n",
              "      <td>3</td>\n",
              "      <td>NaN</td>\n",
              "      <td>alfa-romero</td>\n",
              "      <td>gas</td>\n",
              "      <td>std</td>\n",
              "      <td>two</td>\n",
              "      <td>convertible</td>\n",
              "      <td>rwd</td>\n",
              "      <td>front</td>\n",
              "      <td>88.6</td>\n",
              "      <td>...</td>\n",
              "      <td>130</td>\n",
              "      <td>mpfi</td>\n",
              "      <td>3.47</td>\n",
              "      <td>2.68</td>\n",
              "      <td>9.0</td>\n",
              "      <td>111.0</td>\n",
              "      <td>5000.0</td>\n",
              "      <td>21</td>\n",
              "      <td>27</td>\n",
              "      <td>13495.0</td>\n",
              "    </tr>\n",
              "    <tr>\n",
              "      <th>1</th>\n",
              "      <td>3</td>\n",
              "      <td>NaN</td>\n",
              "      <td>alfa-romero</td>\n",
              "      <td>gas</td>\n",
              "      <td>std</td>\n",
              "      <td>two</td>\n",
              "      <td>convertible</td>\n",
              "      <td>rwd</td>\n",
              "      <td>front</td>\n",
              "      <td>88.6</td>\n",
              "      <td>...</td>\n",
              "      <td>130</td>\n",
              "      <td>mpfi</td>\n",
              "      <td>3.47</td>\n",
              "      <td>2.68</td>\n",
              "      <td>9.0</td>\n",
              "      <td>111.0</td>\n",
              "      <td>5000.0</td>\n",
              "      <td>21</td>\n",
              "      <td>27</td>\n",
              "      <td>16500.0</td>\n",
              "    </tr>\n",
              "    <tr>\n",
              "      <th>2</th>\n",
              "      <td>1</td>\n",
              "      <td>NaN</td>\n",
              "      <td>alfa-romero</td>\n",
              "      <td>gas</td>\n",
              "      <td>std</td>\n",
              "      <td>two</td>\n",
              "      <td>hatchback</td>\n",
              "      <td>rwd</td>\n",
              "      <td>front</td>\n",
              "      <td>94.5</td>\n",
              "      <td>...</td>\n",
              "      <td>152</td>\n",
              "      <td>mpfi</td>\n",
              "      <td>2.68</td>\n",
              "      <td>3.47</td>\n",
              "      <td>9.0</td>\n",
              "      <td>154.0</td>\n",
              "      <td>5000.0</td>\n",
              "      <td>19</td>\n",
              "      <td>26</td>\n",
              "      <td>16500.0</td>\n",
              "    </tr>\n",
              "    <tr>\n",
              "      <th>3</th>\n",
              "      <td>2</td>\n",
              "      <td>164.0</td>\n",
              "      <td>audi</td>\n",
              "      <td>gas</td>\n",
              "      <td>std</td>\n",
              "      <td>four</td>\n",
              "      <td>sedan</td>\n",
              "      <td>fwd</td>\n",
              "      <td>front</td>\n",
              "      <td>99.8</td>\n",
              "      <td>...</td>\n",
              "      <td>109</td>\n",
              "      <td>mpfi</td>\n",
              "      <td>3.19</td>\n",
              "      <td>3.40</td>\n",
              "      <td>10.0</td>\n",
              "      <td>102.0</td>\n",
              "      <td>5500.0</td>\n",
              "      <td>24</td>\n",
              "      <td>30</td>\n",
              "      <td>13950.0</td>\n",
              "    </tr>\n",
              "    <tr>\n",
              "      <th>4</th>\n",
              "      <td>2</td>\n",
              "      <td>164.0</td>\n",
              "      <td>audi</td>\n",
              "      <td>gas</td>\n",
              "      <td>std</td>\n",
              "      <td>four</td>\n",
              "      <td>sedan</td>\n",
              "      <td>4wd</td>\n",
              "      <td>front</td>\n",
              "      <td>99.4</td>\n",
              "      <td>...</td>\n",
              "      <td>136</td>\n",
              "      <td>mpfi</td>\n",
              "      <td>3.19</td>\n",
              "      <td>3.40</td>\n",
              "      <td>8.0</td>\n",
              "      <td>115.0</td>\n",
              "      <td>5500.0</td>\n",
              "      <td>18</td>\n",
              "      <td>22</td>\n",
              "      <td>17450.0</td>\n",
              "    </tr>\n",
              "    <tr>\n",
              "      <th>5</th>\n",
              "      <td>2</td>\n",
              "      <td>NaN</td>\n",
              "      <td>audi</td>\n",
              "      <td>gas</td>\n",
              "      <td>std</td>\n",
              "      <td>two</td>\n",
              "      <td>sedan</td>\n",
              "      <td>fwd</td>\n",
              "      <td>front</td>\n",
              "      <td>99.8</td>\n",
              "      <td>...</td>\n",
              "      <td>136</td>\n",
              "      <td>mpfi</td>\n",
              "      <td>3.19</td>\n",
              "      <td>3.40</td>\n",
              "      <td>8.5</td>\n",
              "      <td>110.0</td>\n",
              "      <td>5500.0</td>\n",
              "      <td>19</td>\n",
              "      <td>25</td>\n",
              "      <td>15250.0</td>\n",
              "    </tr>\n",
              "    <tr>\n",
              "      <th>6</th>\n",
              "      <td>1</td>\n",
              "      <td>158.0</td>\n",
              "      <td>audi</td>\n",
              "      <td>gas</td>\n",
              "      <td>std</td>\n",
              "      <td>four</td>\n",
              "      <td>sedan</td>\n",
              "      <td>fwd</td>\n",
              "      <td>front</td>\n",
              "      <td>105.8</td>\n",
              "      <td>...</td>\n",
              "      <td>136</td>\n",
              "      <td>mpfi</td>\n",
              "      <td>3.19</td>\n",
              "      <td>3.40</td>\n",
              "      <td>8.5</td>\n",
              "      <td>110.0</td>\n",
              "      <td>5500.0</td>\n",
              "      <td>19</td>\n",
              "      <td>25</td>\n",
              "      <td>17710.0</td>\n",
              "    </tr>\n",
              "  </tbody>\n",
              "</table>\n",
              "<p>7 rows × 26 columns</p>\n",
              "</div>\n",
              "      <button class=\"colab-df-convert\" onclick=\"convertToInteractive('df-3d54d2ea-06c9-4b74-a791-b64f206c4f7b')\"\n",
              "              title=\"Convert this dataframe to an interactive table.\"\n",
              "              style=\"display:none;\">\n",
              "        \n",
              "  <svg xmlns=\"http://www.w3.org/2000/svg\" height=\"24px\"viewBox=\"0 0 24 24\"\n",
              "       width=\"24px\">\n",
              "    <path d=\"M0 0h24v24H0V0z\" fill=\"none\"/>\n",
              "    <path d=\"M18.56 5.44l.94 2.06.94-2.06 2.06-.94-2.06-.94-.94-2.06-.94 2.06-2.06.94zm-11 1L8.5 8.5l.94-2.06 2.06-.94-2.06-.94L8.5 2.5l-.94 2.06-2.06.94zm10 10l.94 2.06.94-2.06 2.06-.94-2.06-.94-.94-2.06-.94 2.06-2.06.94z\"/><path d=\"M17.41 7.96l-1.37-1.37c-.4-.4-.92-.59-1.43-.59-.52 0-1.04.2-1.43.59L10.3 9.45l-7.72 7.72c-.78.78-.78 2.05 0 2.83L4 21.41c.39.39.9.59 1.41.59.51 0 1.02-.2 1.41-.59l7.78-7.78 2.81-2.81c.8-.78.8-2.07 0-2.86zM5.41 20L4 18.59l7.72-7.72 1.47 1.35L5.41 20z\"/>\n",
              "  </svg>\n",
              "      </button>\n",
              "      \n",
              "  <style>\n",
              "    .colab-df-container {\n",
              "      display:flex;\n",
              "      flex-wrap:wrap;\n",
              "      gap: 12px;\n",
              "    }\n",
              "\n",
              "    .colab-df-convert {\n",
              "      background-color: #E8F0FE;\n",
              "      border: none;\n",
              "      border-radius: 50%;\n",
              "      cursor: pointer;\n",
              "      display: none;\n",
              "      fill: #1967D2;\n",
              "      height: 32px;\n",
              "      padding: 0 0 0 0;\n",
              "      width: 32px;\n",
              "    }\n",
              "\n",
              "    .colab-df-convert:hover {\n",
              "      background-color: #E2EBFA;\n",
              "      box-shadow: 0px 1px 2px rgba(60, 64, 67, 0.3), 0px 1px 3px 1px rgba(60, 64, 67, 0.15);\n",
              "      fill: #174EA6;\n",
              "    }\n",
              "\n",
              "    [theme=dark] .colab-df-convert {\n",
              "      background-color: #3B4455;\n",
              "      fill: #D2E3FC;\n",
              "    }\n",
              "\n",
              "    [theme=dark] .colab-df-convert:hover {\n",
              "      background-color: #434B5C;\n",
              "      box-shadow: 0px 1px 3px 1px rgba(0, 0, 0, 0.15);\n",
              "      filter: drop-shadow(0px 1px 2px rgba(0, 0, 0, 0.3));\n",
              "      fill: #FFFFFF;\n",
              "    }\n",
              "  </style>\n",
              "\n",
              "      <script>\n",
              "        const buttonEl =\n",
              "          document.querySelector('#df-3d54d2ea-06c9-4b74-a791-b64f206c4f7b button.colab-df-convert');\n",
              "        buttonEl.style.display =\n",
              "          google.colab.kernel.accessAllowed ? 'block' : 'none';\n",
              "\n",
              "        async function convertToInteractive(key) {\n",
              "          const element = document.querySelector('#df-3d54d2ea-06c9-4b74-a791-b64f206c4f7b');\n",
              "          const dataTable =\n",
              "            await google.colab.kernel.invokeFunction('convertToInteractive',\n",
              "                                                     [key], {});\n",
              "          if (!dataTable) return;\n",
              "\n",
              "          const docLinkHtml = 'Like what you see? Visit the ' +\n",
              "            '<a target=\"_blank\" href=https://colab.research.google.com/notebooks/data_table.ipynb>data table notebook</a>'\n",
              "            + ' to learn more about interactive tables.';\n",
              "          element.innerHTML = '';\n",
              "          dataTable['output_type'] = 'display_data';\n",
              "          await google.colab.output.renderOutput(dataTable, element);\n",
              "          const docLink = document.createElement('div');\n",
              "          docLink.innerHTML = docLinkHtml;\n",
              "          element.appendChild(docLink);\n",
              "        }\n",
              "      </script>\n",
              "    </div>\n",
              "  </div>\n",
              "  "
            ]
          },
          "metadata": {},
          "execution_count": 6
        }
      ],
      "source": [
        "df.head(7)"
      ]
    },
    {
      "cell_type": "code",
      "execution_count": 7,
      "id": "ec799a3d",
      "metadata": {
        "execution": {
          "iopub.execute_input": "2021-09-17T14:08:20.780016Z",
          "iopub.status.busy": "2021-09-17T14:08:20.779084Z",
          "iopub.status.idle": "2021-09-17T14:08:20.785694Z",
          "shell.execute_reply": "2021-09-17T14:08:20.784986Z",
          "shell.execute_reply.started": "2021-09-17T14:03:48.668849Z"
        },
        "papermill": {
          "duration": 0.048383,
          "end_time": "2021-09-17T14:08:20.785867",
          "exception": false,
          "start_time": "2021-09-17T14:08:20.737484",
          "status": "completed"
        },
        "tags": [],
        "colab": {
          "base_uri": "https://localhost:8080/"
        },
        "id": "ec799a3d",
        "outputId": "aaaa9d77-56e3-423b-b5cf-29a89dfb4e2a"
      },
      "outputs": [
        {
          "output_type": "execute_result",
          "data": {
            "text/plain": [
              "Index(['symboling', 'normalized-losses', 'make', 'fuel-type', 'aspiration',\n",
              "       'num-of-doors', 'body-style', 'drive-wheels', 'engine-location',\n",
              "       'wheel-base', 'length', 'width', 'height', 'curb-weight', 'engine-type',\n",
              "       'num-of-cylinders', 'engine-size', 'fuel-system', 'bore', 'stroke',\n",
              "       'compression-ratio', 'horsepower', 'peak-rpm', 'city-mpg',\n",
              "       'highway-mpg', 'price'],\n",
              "      dtype='object')"
            ]
          },
          "metadata": {},
          "execution_count": 7
        }
      ],
      "source": [
        "df.columns"
      ]
    },
    {
      "cell_type": "code",
      "execution_count": 8,
      "id": "d9b932cb",
      "metadata": {
        "execution": {
          "iopub.execute_input": "2021-09-17T14:08:20.877954Z",
          "iopub.status.busy": "2021-09-17T14:08:20.876868Z",
          "iopub.status.idle": "2021-09-17T14:08:20.886914Z",
          "shell.execute_reply": "2021-09-17T14:08:20.887445Z",
          "shell.execute_reply.started": "2021-09-17T14:03:48.678512Z"
        },
        "papermill": {
          "duration": 0.058356,
          "end_time": "2021-09-17T14:08:20.887683",
          "exception": false,
          "start_time": "2021-09-17T14:08:20.829327",
          "status": "completed"
        },
        "tags": [],
        "colab": {
          "base_uri": "https://localhost:8080/"
        },
        "id": "d9b932cb",
        "outputId": "4c2488f8-ffea-4782-c431-c09d0e3a2b62"
      },
      "outputs": [
        {
          "output_type": "execute_result",
          "data": {
            "text/plain": [
              "symboling              6\n",
              "normalized-losses     51\n",
              "make                  22\n",
              "fuel-type              2\n",
              "aspiration             2\n",
              "num-of-doors           2\n",
              "body-style             5\n",
              "drive-wheels           3\n",
              "engine-location        2\n",
              "wheel-base            53\n",
              "length                75\n",
              "width                 44\n",
              "height                49\n",
              "curb-weight          171\n",
              "engine-type            7\n",
              "num-of-cylinders       7\n",
              "engine-size           44\n",
              "fuel-system            8\n",
              "bore                  38\n",
              "stroke                36\n",
              "compression-ratio     32\n",
              "horsepower            59\n",
              "peak-rpm              23\n",
              "city-mpg              29\n",
              "highway-mpg           30\n",
              "price                186\n",
              "dtype: int64"
            ]
          },
          "metadata": {},
          "execution_count": 8
        }
      ],
      "source": [
        "df.nunique()"
      ]
    },
    {
      "cell_type": "code",
      "execution_count": 9,
      "id": "fde65179",
      "metadata": {
        "execution": {
          "iopub.execute_input": "2021-09-17T14:08:20.998750Z",
          "iopub.status.busy": "2021-09-17T14:08:20.997976Z",
          "iopub.status.idle": "2021-09-17T14:08:21.330665Z",
          "shell.execute_reply": "2021-09-17T14:08:21.330069Z",
          "shell.execute_reply.started": "2021-09-17T14:03:48.695551Z"
        },
        "papermill": {
          "duration": 0.399419,
          "end_time": "2021-09-17T14:08:21.330817",
          "exception": false,
          "start_time": "2021-09-17T14:08:20.931398",
          "status": "completed"
        },
        "scrolled": true,
        "tags": [],
        "colab": {
          "base_uri": "https://localhost:8080/",
          "height": 1000
        },
        "id": "fde65179",
        "outputId": "cd0bf90a-2ed2-4ac5-c764-9f555f288382"
      },
      "outputs": [
        {
          "output_type": "display_data",
          "data": {
            "text/plain": [
              "<Figure size 600x400 with 1 Axes>"
            ],
            "image/png": "[encoded data removed]"
          },
          "metadata": {}
        },
        {
          "output_type": "display_data",
          "data": {
            "text/plain": [
              "<Figure size 600x400 with 1 Axes>"
            ],
            "image/png": "[encoded data removed]"
          },
          "metadata": {}
        },
        {
          "output_type": "display_data",
          "data": {
            "text/plain": [
              "<Figure size 600x400 with 1 Axes>"
            ],
            "image/png": "[encoded data removed]"
          },
          "metadata": {}
        },
        {
          "output_type": "display_data",
          "data": {
            "text/plain": [
              "<Figure size 600x400 with 1 Axes>"
            ],
            "image/png": "[encoded data removed]"
          },
          "metadata": {}
        }
      ],
      "source": [
        "def pie_chart(cols):\n",
        "    for col in cols:\n",
        "        fig, ax = plt.subplots(figsize=(6,4))\n",
        "        plt.pie(x=df[col].value_counts(), labels=list(df[col].value_counts().index), explode = (0, 0.1))\n",
        "        plt.show()\n",
        "pie_chart(['fuel-type', 'aspiration', 'num-of-doors', 'engine-location'])"
      ]
    },
    {
      "cell_type": "markdown",
      "id": "b2ff1914",
      "metadata": {
        "papermill": {
          "duration": 0.04301,
          "end_time": "2021-09-17T14:08:22.143214",
          "exception": false,
          "start_time": "2021-09-17T14:08:22.100204",
          "status": "completed"
        },
        "tags": [],
        "id": "b2ff1914"
      },
      "source": [
        "# Data Preprocessing"
      ]
    },
    {
      "cell_type": "code",
      "execution_count": 15,
      "id": "2ac4b628",
      "metadata": {
        "execution": {
          "iopub.execute_input": "2021-09-17T14:08:22.238212Z",
          "iopub.status.busy": "2021-09-17T14:08:22.237463Z",
          "iopub.status.idle": "2021-09-17T14:08:22.247027Z",
          "shell.execute_reply": "2021-09-17T14:08:22.247976Z",
          "shell.execute_reply.started": "2021-09-17T14:03:49.505286Z"
        },
        "papermill": {
          "duration": 0.060877,
          "end_time": "2021-09-17T14:08:22.248228",
          "exception": false,
          "start_time": "2021-09-17T14:08:22.187351",
          "status": "completed"
        },
        "tags": [],
        "colab": {
          "base_uri": "https://localhost:8080/"
        },
        "id": "2ac4b628",
        "outputId": "7c32229c-e39f-401c-c632-e1321c245d9c"
      },
      "outputs": [
        {
          "output_type": "execute_result",
          "data": {
            "text/plain": [
              "59"
            ]
          },
          "metadata": {},
          "execution_count": 15
        }
      ],
      "source": [
        "df.isnull().sum().sum()"
      ]
    },
    {
      "cell_type": "code",
      "execution_count": 12,
      "id": "3bbb4d5d",
      "metadata": {
        "execution": {
          "iopub.execute_input": "2021-09-17T14:08:22.342646Z",
          "iopub.status.busy": "2021-09-17T14:08:22.341997Z",
          "iopub.status.idle": "2021-09-17T14:08:22.350018Z",
          "shell.execute_reply": "2021-09-17T14:08:22.350638Z",
          "shell.execute_reply.started": "2021-09-17T14:03:49.514523Z"
        },
        "papermill": {
          "duration": 0.056725,
          "end_time": "2021-09-17T14:08:22.350856",
          "exception": false,
          "start_time": "2021-09-17T14:08:22.294131",
          "status": "completed"
        },
        "tags": [],
        "colab": {
          "base_uri": "https://localhost:8080/"
        },
        "id": "3bbb4d5d",
        "outputId": "49d566cd-8797-4419-e962-10c6c64b3187"
      },
      "outputs": [
        {
          "output_type": "stream",
          "name": "stdout",
          "text": [
            "normalized-losses    41\n",
            "num-of-doors          2\n",
            "bore                  4\n",
            "stroke                4\n",
            "horsepower            2\n",
            "peak-rpm              2\n",
            "price                 4\n",
            "dtype: int64\n"
          ]
        }
      ],
      "source": [
        "nulls=df.isnull().sum()\n",
        "print(nulls[nulls > 0])"
      ]
    },
    {
      "cell_type": "code",
      "execution_count": 13,
      "id": "ea762c9e",
      "metadata": {
        "execution": {
          "iopub.execute_input": "2021-09-17T14:08:22.456786Z",
          "iopub.status.busy": "2021-09-17T14:08:22.451077Z",
          "iopub.status.idle": "2021-09-17T14:08:22.460239Z",
          "shell.execute_reply": "2021-09-17T14:08:22.460783Z",
          "shell.execute_reply.started": "2021-09-17T14:03:49.529374Z"
        },
        "papermill": {
          "duration": 0.060566,
          "end_time": "2021-09-17T14:08:22.460965",
          "exception": false,
          "start_time": "2021-09-17T14:08:22.400399",
          "status": "completed"
        },
        "tags": [],
        "colab": {
          "base_uri": "https://localhost:8080/"
        },
        "id": "ea762c9e",
        "outputId": "a089e608-384f-499c-ed36-534ba9e22ed6"
      },
      "outputs": [
        {
          "output_type": "stream",
          "name": "stdout",
          "text": [
            "normalized-losses    0.200000\n",
            "num-of-doors         0.009756\n",
            "bore                 0.019512\n",
            "stroke               0.019512\n",
            "horsepower           0.009756\n",
            "peak-rpm             0.009756\n",
            "price                0.019512\n",
            "dtype: float64\n"
          ]
        }
      ],
      "source": [
        "nulls=df.isnull().sum()/df.shape[0]\n",
        "print(nulls[nulls > 0])"
      ]
    },
    {
      "cell_type": "code",
      "execution_count": 16,
      "id": "5c7e5338",
      "metadata": {
        "execution": {
          "iopub.execute_input": "2021-09-17T14:08:22.561403Z",
          "iopub.status.busy": "2021-09-17T14:08:22.560444Z",
          "iopub.status.idle": "2021-09-17T14:08:22.566561Z",
          "shell.execute_reply": "2021-09-17T14:08:22.565947Z",
          "shell.execute_reply.started": "2021-09-17T14:03:49.541464Z"
        },
        "papermill": {
          "duration": 0.05887,
          "end_time": "2021-09-17T14:08:22.566734",
          "exception": false,
          "start_time": "2021-09-17T14:08:22.507864",
          "status": "completed"
        },
        "tags": [],
        "colab": {
          "base_uri": "https://localhost:8080/"
        },
        "id": "5c7e5338",
        "outputId": "9ef6e00d-5e52-4d9a-9e56-d963c5455b41"
      },
      "outputs": [
        {
          "output_type": "stream",
          "name": "stdout",
          "text": [
            "normalized-losses float64\n",
            "num-of-doors object\n",
            "bore float64\n",
            "stroke float64\n",
            "horsepower float64\n",
            "peak-rpm float64\n",
            "price float64\n"
          ]
        }
      ],
      "source": [
        "null_col_names=nulls[nulls>0].index\n",
        "for col in null_col_names:\n",
        "    print(col, df[col].dtypes)"
      ]
    },
    {
      "cell_type": "code",
      "execution_count": 17,
      "id": "f6639a9f",
      "metadata": {
        "execution": {
          "iopub.execute_input": "2021-09-17T14:08:22.672017Z",
          "iopub.status.busy": "2021-09-17T14:08:22.671058Z",
          "iopub.status.idle": "2021-09-17T14:08:22.678872Z",
          "shell.execute_reply": "2021-09-17T14:08:22.678265Z",
          "shell.execute_reply.started": "2021-09-17T14:03:49.556253Z"
        },
        "papermill": {
          "duration": 0.061319,
          "end_time": "2021-09-17T14:08:22.679029",
          "exception": false,
          "start_time": "2021-09-17T14:08:22.617710",
          "status": "completed"
        },
        "tags": [],
        "id": "f6639a9f"
      },
      "outputs": [],
      "source": [
        "df['num-of-doors']=df['num-of-doors'].fillna(df['num-of-doors'].value_counts().sort_values(ascending=False).index[0])"
      ]
    },
    {
      "cell_type": "code",
      "execution_count": 18,
      "id": "30993ef8",
      "metadata": {
        "execution": {
          "iopub.execute_input": "2021-09-17T14:08:22.779231Z",
          "iopub.status.busy": "2021-09-17T14:08:22.776529Z",
          "iopub.status.idle": "2021-09-17T14:08:22.782494Z",
          "shell.execute_reply": "2021-09-17T14:08:22.781914Z",
          "shell.execute_reply.started": "2021-09-17T14:03:49.573044Z"
        },
        "papermill": {
          "duration": 0.056274,
          "end_time": "2021-09-17T14:08:22.782649",
          "exception": false,
          "start_time": "2021-09-17T14:08:22.726375",
          "status": "completed"
        },
        "tags": [],
        "id": "30993ef8"
      },
      "outputs": [],
      "source": [
        "def fill_with_mean(df, cols):\n",
        "    for col in cols:\n",
        "        df[col]=df[col].fillna(np.round(df[col].mean() ,3))\n",
        "    return df"
      ]
    },
    {
      "cell_type": "code",
      "execution_count": 19,
      "id": "711de449",
      "metadata": {
        "execution": {
          "iopub.execute_input": "2021-09-17T14:08:22.884301Z",
          "iopub.status.busy": "2021-09-17T14:08:22.877938Z",
          "iopub.status.idle": "2021-09-17T14:08:22.887380Z",
          "shell.execute_reply": "2021-09-17T14:08:22.886870Z",
          "shell.execute_reply.started": "2021-09-17T14:03:49.583504Z"
        },
        "papermill": {
          "duration": 0.059083,
          "end_time": "2021-09-17T14:08:22.887543",
          "exception": false,
          "start_time": "2021-09-17T14:08:22.828460",
          "status": "completed"
        },
        "tags": [],
        "id": "711de449"
      },
      "outputs": [],
      "source": [
        "df=fill_with_mean(df, ['bore', 'stroke', 'horsepower', 'peak-rpm', 'price'])"
      ]
    },
    {
      "cell_type": "code",
      "execution_count": 20,
      "id": "a31f73da",
      "metadata": {
        "execution": {
          "iopub.execute_input": "2021-09-17T14:08:22.989221Z",
          "iopub.status.busy": "2021-09-17T14:08:22.988501Z",
          "iopub.status.idle": "2021-09-17T14:08:22.992221Z",
          "shell.execute_reply": "2021-09-17T14:08:22.992789Z",
          "shell.execute_reply.started": "2021-09-17T14:03:49.595284Z"
        },
        "papermill": {
          "duration": 0.060572,
          "end_time": "2021-09-17T14:08:22.992967",
          "exception": false,
          "start_time": "2021-09-17T14:08:22.932395",
          "status": "completed"
        },
        "tags": [],
        "colab": {
          "base_uri": "https://localhost:8080/"
        },
        "id": "a31f73da",
        "outputId": "dfbe5097-f2f7-4863-84ba-c5e5ae2a05a8"
      },
      "outputs": [
        {
          "output_type": "stream",
          "name": "stdout",
          "text": [
            "normalized-losses    41\n",
            "dtype: int64\n"
          ]
        }
      ],
      "source": [
        "nulls=df.isnull().sum()\n",
        "print(nulls[nulls > 0])"
      ]
    },
    {
      "cell_type": "markdown",
      "id": "00d9fd8e",
      "metadata": {
        "papermill": {
          "duration": 0.048632,
          "end_time": "2021-09-17T14:08:23.086862",
          "exception": false,
          "start_time": "2021-09-17T14:08:23.038230",
          "status": "completed"
        },
        "tags": [],
        "id": "00d9fd8e"
      },
      "source": [
        "# Outlier Analysis"
      ]
    },
    {
      "cell_type": "code",
      "execution_count": 21,
      "id": "36d4bab9",
      "metadata": {
        "execution": {
          "iopub.execute_input": "2021-09-17T14:08:23.184487Z",
          "iopub.status.busy": "2021-09-17T14:08:23.183829Z",
          "iopub.status.idle": "2021-09-17T14:08:25.684522Z",
          "shell.execute_reply": "2021-09-17T14:08:25.685044Z",
          "shell.execute_reply.started": "2021-09-17T14:03:49.611663Z"
        },
        "papermill": {
          "duration": 2.551996,
          "end_time": "2021-09-17T14:08:25.685231",
          "exception": false,
          "start_time": "2021-09-17T14:08:23.133235",
          "status": "completed"
        },
        "tags": [],
        "colab": {
          "base_uri": "https://localhost:8080/",
          "height": 1000
        },
        "id": "36d4bab9",
        "outputId": "7a9efcd0-2119-408b-ba79-3a2f382c044c"
      },
      "outputs": [
        {
          "output_type": "display_data",
          "data": {
            "text/plain": [
              "<Figure size 640x480 with 1 Axes>"
            ],
            "image/png": "[encoded data removed]"
          },
          "metadata": {}
        },
        {
          "output_type": "display_data",
          "data": {
            "text/plain": [
              "<Figure size 640x480 with 1 Axes>"
            ],
            "image/png": "[encoded data removed]"
          },
          "metadata": {}
        },
        {
          "output_type": "display_data",
          "data": {
            "text/plain": [
              "<Figure size 640x480 with 1 Axes>"
            ],
            "image/png": "[encoded data removed]"
          },
          "metadata": {}
        },
        {
          "output_type": "display_data",
          "data": {
            "text/plain": [
              "<Figure size 640x480 with 1 Axes>"
            ],
            "image/png": "[encoded data removed]"
          },
          "metadata": {}
        },
        {
          "output_type": "display_data",
          "data": {
            "text/plain": [
              "<Figure size 640x480 with 1 Axes>"
            ],
            "image/png": "[encoded data removed]"
          },
          "metadata": {}
        },
        {
          "output_type": "display_data",
          "data": {
            "text/plain": [
              "<Figure size 640x480 with 1 Axes>"
            ],
            "image/png": "[encoded data removed]"
          },
          "metadata": {}
        },
        {
          "output_type": "display_data",
          "data": {
            "text/plain": [
              "<Figure size 640x480 with 1 Axes>"
            ],
            "image/png": "[encoded data removed]"
          },
          "metadata": {}
        },
        {
          "output_type": "display_data",
          "data": {
            "text/plain": [
              "<Figure size 640x480 with 1 Axes>"
            ],
            "image/png": "[encoded data removed]"
          },
          "metadata": {}
        },
        {
          "output_type": "display_data",
          "data": {
            "text/plain": [
              "<Figure size 640x480 with 1 Axes>"
            ],
            "image/png": "[encoded data removed]"
          },
          "metadata": {}
        },
        {
          "output_type": "display_data",
          "data": {
            "text/plain": [
              "<Figure size 640x480 with 1 Axes>"
            ],
            "image/png": "[encoded data removed]"
          },
          "metadata": {}
        },
        {
          "output_type": "display_data",
          "data": {
            "text/plain": [
              "<Figure size 640x480 with 1 Axes>"
            ],
            "image/png": "[encoded data removed]"
          },
          "metadata": {}
        },
        {
          "output_type": "display_data",
          "data": {
            "text/plain": [
              "<Figure size 640x480 with 1 Axes>"
            ],
            "image/png": "[encoded data removed]"
          },
          "metadata": {}
        },
        {
          "output_type": "display_data",
          "data": {
            "text/plain": [
              "<Figure size 640x480 with 1 Axes>"
            ],
            "image/png": "[encoded data removed]"
          },
          "metadata": {}
        },
        {
          "output_type": "display_data",
          "data": {
            "text/plain": [
              "<Figure size 640x480 with 1 Axes>"
            ],
            "image/png": "[encoded data removed]"
          },
          "metadata": {}
        },
        {
          "output_type": "display_data",
          "data": {
            "text/plain": [
              "<Figure size 640x480 with 1 Axes>"
            ],
            "image/png": "[encoded data removed]"
          },
          "metadata": {}
        },
        {
          "output_type": "display_data",
          "data": {
            "text/plain": [
              "<Figure size 640x480 with 1 Axes>"
            ],
            "image/png": "[encoded data removed]"
          },
          "metadata": {}
        }
      ],
      "source": [
        "for col in df._get_numeric_data():\n",
        "    sns.boxplot(df[col])\n",
        "    plt.show()"
      ]
    },
    {
      "cell_type": "code",
      "execution_count": 22,
      "id": "4a6061ed",
      "metadata": {
        "execution": {
          "iopub.execute_input": "2021-09-17T14:08:25.804325Z",
          "iopub.status.busy": "2021-09-17T14:08:25.803492Z",
          "iopub.status.idle": "2021-09-17T14:08:25.806656Z",
          "shell.execute_reply": "2021-09-17T14:08:25.806110Z",
          "shell.execute_reply.started": "2021-09-17T14:03:52.317671Z"
        },
        "papermill": {
          "duration": 0.065447,
          "end_time": "2021-09-17T14:08:25.806808",
          "exception": false,
          "start_time": "2021-09-17T14:08:25.741361",
          "status": "completed"
        },
        "tags": [],
        "id": "4a6061ed"
      },
      "outputs": [],
      "source": [
        "def thresholds(dataframe, cols, q1=0.25, q3=0.75):\n",
        "    for col_name in cols:\n",
        "        quartile1 = dataframe[col_name].quantile(q1)\n",
        "        quartile3 = dataframe[col_name].quantile(q3)\n",
        "        IQR = quartile3 - quartile1\n",
        "        up_limit = quartile3 + 1.5 * IQR\n",
        "        low_limit = quartile1 - 1.5 * IQR\n",
        "        dataframe.loc[(dataframe[col_name] < low_limit), col_name] = low_limit\n",
        "        dataframe.loc[(dataframe[col_name] > up_limit), col_name] = up_limit\n",
        "    return dataframe"
      ]
    },
    {
      "cell_type": "code",
      "execution_count": 23,
      "id": "9834c5e5",
      "metadata": {
        "execution": {
          "iopub.execute_input": "2021-09-17T14:08:25.927759Z",
          "iopub.status.busy": "2021-09-17T14:08:25.925189Z",
          "iopub.status.idle": "2021-09-17T14:08:25.953271Z",
          "shell.execute_reply": "2021-09-17T14:08:25.952738Z",
          "shell.execute_reply.started": "2021-09-17T14:03:52.326522Z"
        },
        "papermill": {
          "duration": 0.089418,
          "end_time": "2021-09-17T14:08:25.953420",
          "exception": false,
          "start_time": "2021-09-17T14:08:25.864002",
          "status": "completed"
        },
        "tags": [],
        "id": "9834c5e5"
      },
      "outputs": [],
      "source": [
        "df=thresholds(df, ['normalized-losses', 'wheel-base', 'length', 'width', 'engine-size', 'stroke', \n",
        "                   'compression-ratio', 'horsepower', 'highway-mpg', 'price'])"
      ]
    },
    {
      "cell_type": "code",
      "execution_count": 24,
      "id": "82f4091e",
      "metadata": {
        "execution": {
          "iopub.execute_input": "2021-09-17T14:08:26.077996Z",
          "iopub.status.busy": "2021-09-17T14:08:26.076777Z",
          "iopub.status.idle": "2021-09-17T14:08:26.080095Z",
          "shell.execute_reply": "2021-09-17T14:08:26.080604Z",
          "shell.execute_reply.started": "2021-09-17T14:03:52.369005Z"
        },
        "papermill": {
          "duration": 0.07205,
          "end_time": "2021-09-17T14:08:26.080780",
          "exception": false,
          "start_time": "2021-09-17T14:08:26.008730",
          "status": "completed"
        },
        "tags": [],
        "id": "82f4091e"
      },
      "outputs": [],
      "source": [
        "df=df.query(\"`city-mpg`<45\")"
      ]
    },
    {
      "cell_type": "code",
      "execution_count": 25,
      "id": "9e92f01c",
      "metadata": {
        "execution": {
          "iopub.execute_input": "2021-09-17T14:08:26.206131Z",
          "iopub.status.busy": "2021-09-17T14:08:26.199242Z",
          "iopub.status.idle": "2021-09-17T14:08:26.208168Z",
          "shell.execute_reply": "2021-09-17T14:08:26.209099Z",
          "shell.execute_reply.started": "2021-09-17T14:03:52.382262Z"
        },
        "papermill": {
          "duration": 0.072972,
          "end_time": "2021-09-17T14:08:26.209363",
          "exception": false,
          "start_time": "2021-09-17T14:08:26.136391",
          "status": "completed"
        },
        "tags": [],
        "id": "9e92f01c"
      },
      "outputs": [],
      "source": [
        "df=df.query(\"`highway-mpg`<48\")"
      ]
    },
    {
      "cell_type": "code",
      "execution_count": 26,
      "id": "3684743f",
      "metadata": {
        "execution": {
          "iopub.execute_input": "2021-09-17T14:08:26.325317Z",
          "iopub.status.busy": "2021-09-17T14:08:26.324321Z",
          "iopub.status.idle": "2021-09-17T14:08:28.334802Z",
          "shell.execute_reply": "2021-09-17T14:08:28.334233Z",
          "shell.execute_reply.started": "2021-09-17T14:03:52.398880Z"
        },
        "papermill": {
          "duration": 2.069056,
          "end_time": "2021-09-17T14:08:28.334974",
          "exception": false,
          "start_time": "2021-09-17T14:08:26.265918",
          "status": "completed"
        },
        "tags": [],
        "colab": {
          "base_uri": "https://localhost:8080/",
          "height": 1000
        },
        "id": "3684743f",
        "outputId": "71bdf17f-652f-4afc-c986-62b05b63307e"
      },
      "outputs": [
        {
          "output_type": "display_data",
          "data": {
            "text/plain": [
              "<Figure size 640x480 with 1 Axes>"
            ],
            "image/png": "[encoded data removed]"
          },
          "metadata": {}
        },
        {
          "output_type": "display_data",
          "data": {
            "text/plain": [
              "<Figure size 640x480 with 1 Axes>"
            ],
            "image/png": "[encoded data removed]"
          },
          "metadata": {}
        },
        {
          "output_type": "display_data",
          "data": {
            "text/plain": [
              "<Figure size 640x480 with 1 Axes>"
            ],
            "image/png": "[encoded data removed]"
          },
          "metadata": {}
        },
        {
          "output_type": "display_data",
          "data": {
            "text/plain": [
              "<Figure size 640x480 with 1 Axes>"
            ],
            "image/png": "[encoded data removed]"
          },
          "metadata": {}
        },
        {
          "output_type": "display_data",
          "data": {
            "text/plain": [
              "<Figure size 640x480 with 1 Axes>"
            ],
            "image/png": "[encoded data removed]"
          },
          "metadata": {}
        },
        {
          "output_type": "display_data",
          "data": {
            "text/plain": [
              "<Figure size 640x480 with 1 Axes>"
            ],
            "image/png": "[encoded data removed]"
          },
          "metadata": {}
        },
        {
          "output_type": "display_data",
          "data": {
            "text/plain": [
              "<Figure size 640x480 with 1 Axes>"
            ],
            "image/png": "[encoded data removed]"
          },
          "metadata": {}
        },
        {
          "output_type": "display_data",
          "data": {
            "text/plain": [
              "<Figure size 640x480 with 1 Axes>"
            ],
            "image/png": "[encoded data removed]"
          },
          "metadata": {}
        },
        {
          "output_type": "display_data",
          "data": {
            "text/plain": [
              "<Figure size 640x480 with 1 Axes>"
            ],
            "image/png": "[encoded data removed]"
          },
          "metadata": {}
        },
        {
          "output_type": "display_data",
          "data": {
            "text/plain": [
              "<Figure size 640x480 with 1 Axes>"
            ],
            "image/png": "[encoded data removed]"
          },
          "metadata": {}
        },
        {
          "output_type": "display_data",
          "data": {
            "text/plain": [
              "<Figure size 640x480 with 1 Axes>"
            ],
            "image/png": "[encoded data removed]"
          },
          "metadata": {}
        },
        {
          "output_type": "display_data",
          "data": {
            "text/plain": [
              "<Figure size 640x480 with 1 Axes>"
            ],
            "image/png": "[encoded data removed]"
          },
          "metadata": {}
        },
        {
          "output_type": "display_data",
          "data": {
            "text/plain": [
              "<Figure size 640x480 with 1 Axes>"
            ],
            "image/png": "[encoded data removed]"
          },
          "metadata": {}
        },
        {
          "output_type": "display_data",
          "data": {
            "text/plain": [
              "<Figure size 640x480 with 1 Axes>"
            ],
            "image/png": "[encoded data removed]"
          },
          "metadata": {}
        },
        {
          "output_type": "display_data",
          "data": {
            "text/plain": [
              "<Figure size 640x480 with 1 Axes>"
            ],
            "image/png": "[encoded data removed]"
          },
          "metadata": {}
        },
        {
          "output_type": "display_data",
          "data": {
            "text/plain": [
              "<Figure size 640x480 with 1 Axes>"
            ],
            "image/png": "[encoded data removed]"
          },
          "metadata": {}
        }
      ],
      "source": [
        "for col in df._get_numeric_data():\n",
        "    sns.boxplot(df[col])\n",
        "    plt.show()"
      ]
    },
    {
      "cell_type": "markdown",
      "id": "b2325267",
      "metadata": {
        "papermill": {
          "duration": 0.067198,
          "end_time": "2021-09-17T14:08:28.469838",
          "exception": false,
          "start_time": "2021-09-17T14:08:28.402640",
          "status": "completed"
        },
        "tags": [],
        "id": "b2325267"
      },
      "source": [
        "# Encoding"
      ]
    },
    {
      "cell_type": "code",
      "execution_count": 27,
      "id": "942993c1",
      "metadata": {
        "execution": {
          "iopub.execute_input": "2021-09-17T14:08:28.621710Z",
          "iopub.status.busy": "2021-09-17T14:08:28.620641Z",
          "iopub.status.idle": "2021-09-17T14:08:28.627810Z",
          "shell.execute_reply": "2021-09-17T14:08:28.627244Z",
          "shell.execute_reply.started": "2021-09-17T14:03:55.027788Z"
        },
        "papermill": {
          "duration": 0.090698,
          "end_time": "2021-09-17T14:08:28.627954",
          "exception": false,
          "start_time": "2021-09-17T14:08:28.537256",
          "status": "completed"
        },
        "tags": [],
        "id": "942993c1"
      },
      "outputs": [],
      "source": [
        "df=pd.get_dummies(df, drop_first=True)"
      ]
    },
    {
      "cell_type": "code",
      "execution_count": 28,
      "id": "4bbbbc49",
      "metadata": {
        "execution": {
          "iopub.execute_input": "2021-09-17T14:08:28.762457Z",
          "iopub.status.busy": "2021-09-17T14:08:28.761742Z",
          "iopub.status.idle": "2021-09-17T14:08:29.069618Z",
          "shell.execute_reply": "2021-09-17T14:08:29.070227Z",
          "shell.execute_reply.started": "2021-09-17T14:03:55.045888Z"
        },
        "papermill": {
          "duration": 0.377584,
          "end_time": "2021-09-17T14:08:29.070399",
          "exception": false,
          "start_time": "2021-09-17T14:08:28.692815",
          "status": "completed"
        },
        "tags": [],
        "id": "4bbbbc49"
      },
      "outputs": [],
      "source": [
        "from sklearn.impute import KNNImputer"
      ]
    },
    {
      "cell_type": "code",
      "execution_count": 29,
      "id": "5069c165",
      "metadata": {
        "execution": {
          "iopub.execute_input": "2021-09-17T14:08:29.207741Z",
          "iopub.status.busy": "2021-09-17T14:08:29.206492Z",
          "iopub.status.idle": "2021-09-17T14:08:29.210209Z",
          "shell.execute_reply": "2021-09-17T14:08:29.209475Z",
          "shell.execute_reply.started": "2021-09-17T14:03:55.053260Z"
        },
        "papermill": {
          "duration": 0.075409,
          "end_time": "2021-09-17T14:08:29.210361",
          "exception": false,
          "start_time": "2021-09-17T14:08:29.134952",
          "status": "completed"
        },
        "tags": [],
        "id": "5069c165"
      },
      "outputs": [],
      "source": [
        "def knn_imputer(df, n):\n",
        "    imputer = KNNImputer(n_neighbors = n)\n",
        "    df_filled = imputer.fit_transform(df)\n",
        "    df_knn_imp = pd.DataFrame(df_filled,columns = df.columns)\n",
        "    return df_knn_imp"
      ]
    },
    {
      "cell_type": "code",
      "execution_count": 30,
      "id": "f8a42460",
      "metadata": {
        "execution": {
          "iopub.execute_input": "2021-09-17T14:08:29.347503Z",
          "iopub.status.busy": "2021-09-17T14:08:29.346796Z",
          "iopub.status.idle": "2021-09-17T14:08:29.369879Z",
          "shell.execute_reply": "2021-09-17T14:08:29.369018Z",
          "shell.execute_reply.started": "2021-09-17T14:03:55.062266Z"
        },
        "papermill": {
          "duration": 0.093612,
          "end_time": "2021-09-17T14:08:29.370140",
          "exception": false,
          "start_time": "2021-09-17T14:08:29.276528",
          "status": "completed"
        },
        "tags": [],
        "id": "f8a42460"
      },
      "outputs": [],
      "source": [
        "#Filling Null values with KNN imputer in normalized-loss column\n",
        "df=knn_imputer(df, 4)"
      ]
    },
    {
      "cell_type": "code",
      "execution_count": 31,
      "id": "2e22bf0d",
      "metadata": {
        "execution": {
          "iopub.execute_input": "2021-09-17T14:08:29.559736Z",
          "iopub.status.busy": "2021-09-17T14:08:29.558699Z",
          "iopub.status.idle": "2021-09-17T14:08:29.562349Z",
          "shell.execute_reply": "2021-09-17T14:08:29.562858Z",
          "shell.execute_reply.started": "2021-09-17T14:03:55.087410Z"
        },
        "papermill": {
          "duration": 0.078823,
          "end_time": "2021-09-17T14:08:29.563040",
          "exception": false,
          "start_time": "2021-09-17T14:08:29.484217",
          "status": "completed"
        },
        "tags": [],
        "colab": {
          "base_uri": "https://localhost:8080/"
        },
        "id": "2e22bf0d",
        "outputId": "b66efd81-b07b-4adf-cc5a-58e090a875ec"
      },
      "outputs": [
        {
          "output_type": "execute_result",
          "data": {
            "text/plain": [
              "0"
            ]
          },
          "metadata": {},
          "execution_count": 31
        }
      ],
      "source": [
        "df.isnull().sum().sum()"
      ]
    },
    {
      "cell_type": "markdown",
      "id": "293fbf27",
      "metadata": {
        "papermill": {
          "duration": 0.063684,
          "end_time": "2021-09-17T14:08:29.690724",
          "exception": false,
          "start_time": "2021-09-17T14:08:29.627040",
          "status": "completed"
        },
        "tags": [],
        "id": "293fbf27"
      },
      "source": [
        "# Building Model"
      ]
    },
    {
      "cell_type": "code",
      "execution_count": 33,
      "id": "799d9b68",
      "metadata": {
        "execution": {
          "iopub.execute_input": "2021-09-17T14:08:29.827327Z",
          "iopub.status.busy": "2021-09-17T14:08:29.826714Z",
          "iopub.status.idle": "2021-09-17T14:08:31.292667Z",
          "shell.execute_reply": "2021-09-17T14:08:31.293160Z",
          "shell.execute_reply.started": "2021-09-17T14:03:55.097868Z"
        },
        "papermill": {
          "duration": 1.53746,
          "end_time": "2021-09-17T14:08:31.293362",
          "exception": false,
          "start_time": "2021-09-17T14:08:29.755902",
          "status": "completed"
        },
        "tags": [],
        "id": "799d9b68"
      },
      "outputs": [],
      "source": [
        "from sklearn.model_selection import train_test_split, GridSearchCV, cross_val_score\n",
        "from sklearn.linear_model import LinearRegression, Lasso, Ridge, ElasticNet\n",
        "from sklearn.metrics import mean_squared_error, r2_score\n",
        "from sklearn.neighbors import KNeighborsRegressor\n",
        "from sklearn.tree import DecisionTreeRegressor\n",
        "# from catboost import CatBoostRegressor\n",
        "from lightgbm import LGBMRegressor"
      ]
    },
    {
      "cell_type": "code",
      "execution_count": 34,
      "id": "5f904e01",
      "metadata": {
        "execution": {
          "iopub.execute_input": "2021-09-17T14:08:31.458852Z",
          "iopub.status.busy": "2021-09-17T14:08:31.458071Z",
          "iopub.status.idle": "2021-09-17T14:08:31.460493Z",
          "shell.execute_reply": "2021-09-17T14:08:31.461022Z",
          "shell.execute_reply.started": "2021-09-17T14:03:55.107399Z"
        },
        "papermill": {
          "duration": 0.079833,
          "end_time": "2021-09-17T14:08:31.461211",
          "exception": false,
          "start_time": "2021-09-17T14:08:31.381378",
          "status": "completed"
        },
        "tags": [],
        "id": "5f904e01"
      },
      "outputs": [],
      "source": [
        "X=df.drop('price', axis=1)\n",
        "Y=df[['price']]"
      ]
    },
    {
      "cell_type": "code",
      "execution_count": 35,
      "id": "ad002e75",
      "metadata": {
        "execution": {
          "iopub.execute_input": "2021-09-17T14:08:31.601370Z",
          "iopub.status.busy": "2021-09-17T14:08:31.600598Z",
          "iopub.status.idle": "2021-09-17T14:08:31.605235Z",
          "shell.execute_reply": "2021-09-17T14:08:31.604482Z",
          "shell.execute_reply.started": "2021-09-17T14:03:55.125430Z"
        },
        "papermill": {
          "duration": 0.077539,
          "end_time": "2021-09-17T14:08:31.605385",
          "exception": false,
          "start_time": "2021-09-17T14:08:31.527846",
          "status": "completed"
        },
        "tags": [],
        "id": "ad002e75"
      },
      "outputs": [],
      "source": [
        "models=[LinearRegression(), Lasso(), Ridge()]"
      ]
    },
    {
      "cell_type": "code",
      "execution_count": 36,
      "id": "ae0e4b8f",
      "metadata": {
        "execution": {
          "iopub.execute_input": "2021-09-17T14:08:31.750043Z",
          "iopub.status.busy": "2021-09-17T14:08:31.748916Z",
          "iopub.status.idle": "2021-09-17T14:08:31.752023Z",
          "shell.execute_reply": "2021-09-17T14:08:31.751310Z",
          "shell.execute_reply.started": "2021-09-17T14:03:55.137011Z"
        },
        "papermill": {
          "duration": 0.079621,
          "end_time": "2021-09-17T14:08:31.752191",
          "exception": false,
          "start_time": "2021-09-17T14:08:31.672570",
          "status": "completed"
        },
        "tags": [],
        "id": "ae0e4b8f"
      },
      "outputs": [],
      "source": [
        "def reg_models(x, y, models):\n",
        "    for model in models:\n",
        "        X_train, X_test, Y_train, Y_test=train_test_split(x, y, test_size=0.25, random_state=50)\n",
        "        model.fit(X_train,Y_train)\n",
        "        Y_test_pred=model.predict(X_test)\n",
        "        print(model)\n",
        "        print('Mean Squared Error: {}'.format(mean_squared_error(Y_test, Y_test_pred)))\n",
        "        print('Regression Score(r2): {}'.format(r2_score(Y_test, Y_test_pred)))\n",
        "        print('-----------------------------------------------------')"
      ]
    },
    {
      "cell_type": "code",
      "execution_count": 37,
      "id": "d2934b28",
      "metadata": {
        "execution": {
          "iopub.execute_input": "2021-09-17T14:08:31.905994Z",
          "iopub.status.busy": "2021-09-17T14:08:31.905164Z",
          "iopub.status.idle": "2021-09-17T14:08:32.174025Z",
          "shell.execute_reply": "2021-09-17T14:08:32.175082Z",
          "shell.execute_reply.started": "2021-09-17T14:03:55.156029Z"
        },
        "papermill": {
          "duration": 0.353265,
          "end_time": "2021-09-17T14:08:32.175415",
          "exception": false,
          "start_time": "2021-09-17T14:08:31.822150",
          "status": "completed"
        },
        "tags": [],
        "colab": {
          "base_uri": "https://localhost:8080/"
        },
        "id": "d2934b28",
        "outputId": "ecfeb289-a959-47a5-8831-9683a7de984b"
      },
      "outputs": [
        {
          "output_type": "stream",
          "name": "stdout",
          "text": [
            "LinearRegression()\n",
            "Mean Squared Error: 4077029.349941182\n",
            "Regression Score(r2): 0.9000909817972725\n",
            "-----------------------------------------------------\n",
            "Lasso()\n",
            "Mean Squared Error: 3978836.8011108437\n",
            "Regression Score(r2): 0.9024972242611891\n",
            "-----------------------------------------------------\n",
            "Ridge()\n",
            "Mean Squared Error: 4661351.475454576\n",
            "Regression Score(r2): 0.8857719654588162\n",
            "-----------------------------------------------------\n"
          ]
        }
      ],
      "source": [
        "reg_models(X, Y, models)"
      ]
    },
    {
      "cell_type": "markdown",
      "id": "a7439ff3",
      "metadata": {
        "papermill": {
          "duration": 0.069848,
          "end_time": "2021-09-17T14:08:32.315409",
          "exception": false,
          "start_time": "2021-09-17T14:08:32.245561",
          "status": "completed"
        },
        "tags": [],
        "id": "a7439ff3"
      },
      "source": [
        "# HyperParameter Tuning"
      ]
    },
    {
      "cell_type": "code",
      "execution_count": 42,
      "id": "e5e19e80",
      "metadata": {
        "execution": {
          "iopub.execute_input": "2021-09-17T14:08:32.469199Z",
          "iopub.status.busy": "2021-09-17T14:08:32.464342Z",
          "iopub.status.idle": "2021-09-17T14:08:32.471093Z",
          "shell.execute_reply": "2021-09-17T14:08:32.471655Z",
          "shell.execute_reply.started": "2021-09-17T14:05:36.801713Z"
        },
        "papermill": {
          "duration": 0.086007,
          "end_time": "2021-09-17T14:08:32.471839",
          "exception": false,
          "start_time": "2021-09-17T14:08:32.385832",
          "status": "completed"
        },
        "tags": [],
        "id": "e5e19e80"
      },
      "outputs": [],
      "source": [
        "model_parameters={\n",
        "    'Linear Regression':{\n",
        "        'model': LinearRegression(),\n",
        "        'params': {'fit_intercept': [True , False] \n",
        "                    }},\n",
        "    'Lasso Regression': {\n",
        "        'model': Lasso(),\n",
        "        'params': {'selection': ['cyclic', 'random'], \n",
        "                  'alpha': [0.1,0.01, 0.005, 0.05, 0.001 ,0.2, 0.3, 0.5, 0.8, 0.9, 1]}},\n",
        "    'Ridge Regression' : {\n",
        "        'model': Ridge(),\n",
        "        'params': {'alpha': [0.1, 0.01, 0.005, 0.05, 0.001 ,0.2, 0.3, 0.5, 0.8, 0.9, 1], \n",
        "                   'solver': ['auto', 'svd', 'cholesky']}}\n",
        "}"
      ]
    },
    {
      "cell_type": "code",
      "execution_count": 43,
      "id": "7afc7216",
      "metadata": {
        "execution": {
          "iopub.execute_input": "2021-09-17T14:08:32.615574Z",
          "iopub.status.busy": "2021-09-17T14:08:32.614895Z",
          "iopub.status.idle": "2021-09-17T14:08:32.624221Z",
          "shell.execute_reply": "2021-09-17T14:08:32.624996Z",
          "shell.execute_reply.started": "2021-09-17T14:05:38.238526Z"
        },
        "papermill": {
          "duration": 0.083357,
          "end_time": "2021-09-17T14:08:32.625216",
          "exception": false,
          "start_time": "2021-09-17T14:08:32.541859",
          "status": "completed"
        },
        "tags": [],
        "id": "7afc7216"
      },
      "outputs": [],
      "source": [
        "def tuning(x, y, model_params):\n",
        "    results=[]\n",
        "    for model_name, mp in model_params.items():\n",
        "        X_train, X_test, Y_train, Y_test = train_test_split(x, y, test_size=0.25, random_state=50)\n",
        "        clf=GridSearchCV(mp['model'], mp['params'], cv=5, return_train_score=True)\n",
        "        clf.fit(X_train, Y_train)\n",
        "        Y_test_pred=clf.predict(X_test)\n",
        "        test_error=mean_squared_error(Y_test, Y_test_pred)\n",
        "        r2score=r2_score(Y_test, Y_test_pred)                                                  \n",
        "        print(model_name)\n",
        "        print('Mean Squared Error: {}'.format(test_error))\n",
        "        print('Regression Score(r2): {}'.format(r2score))\n",
        "        print('------------------------------------------------------')\n",
        "        results.append({'model': model_name, \n",
        "                        'MSE': test_error,\n",
        "                        'R2 Score': r2score,\n",
        "                        'best_score': clf.best_score_,\n",
        "                        'best_params': clf.best_params_})\n",
        "    return results"
      ]
    },
    {
      "cell_type": "code",
      "execution_count": 44,
      "id": "227262f3",
      "metadata": {
        "execution": {
          "iopub.execute_input": "2021-09-17T14:08:32.798704Z",
          "iopub.status.busy": "2021-09-17T14:08:32.797613Z",
          "iopub.status.idle": "2021-09-17T14:08:47.753611Z",
          "shell.execute_reply": "2021-09-17T14:08:47.754707Z",
          "shell.execute_reply.started": "2021-09-17T14:05:39.094833Z"
        },
        "papermill": {
          "duration": 15.062269,
          "end_time": "2021-09-17T14:08:47.754929",
          "exception": false,
          "start_time": "2021-09-17T14:08:32.692660",
          "status": "completed"
        },
        "tags": [],
        "colab": {
          "base_uri": "https://localhost:8080/"
        },
        "id": "227262f3",
        "outputId": "c9cef876-d140-4aea-d86f-2dbbe0b88761"
      },
      "outputs": [
        {
          "output_type": "stream",
          "name": "stdout",
          "text": [
            "Linear Regression\n",
            "Mean Squared Error: 4077029.349941182\n",
            "Regression Score(r2): 0.9000909817972725\n",
            "------------------------------------------------------\n",
            "Lasso Regression\n",
            "Mean Squared Error: 3975193.7286680187\n",
            "Regression Score(r2): 0.9025864990148794\n",
            "------------------------------------------------------\n",
            "Ridge Regression\n",
            "Mean Squared Error: 4661351.475454529\n",
            "Regression Score(r2): 0.8857719654588173\n",
            "------------------------------------------------------\n"
          ]
        }
      ],
      "source": [
        "result = tuning(X, Y, model_parameters)"
      ]
    },
    {
      "cell_type": "code",
      "execution_count": 45,
      "id": "119fe9f5",
      "metadata": {
        "execution": {
          "iopub.execute_input": "2021-09-17T14:08:47.904150Z",
          "iopub.status.busy": "2021-09-17T14:08:47.903492Z",
          "iopub.status.idle": "2021-09-17T14:08:47.906839Z",
          "shell.execute_reply": "2021-09-17T14:08:47.907354Z",
          "shell.execute_reply.started": "2021-09-17T14:05:52.906463Z"
        },
        "papermill": {
          "duration": 0.081258,
          "end_time": "2021-09-17T14:08:47.907561",
          "exception": false,
          "start_time": "2021-09-17T14:08:47.826303",
          "status": "completed"
        },
        "tags": [],
        "id": "119fe9f5"
      },
      "outputs": [],
      "source": [
        "res = pd.DataFrame(result)"
      ]
    },
    {
      "cell_type": "code",
      "execution_count": 49,
      "id": "049bb5fc",
      "metadata": {
        "execution": {
          "iopub.execute_input": "2021-09-17T14:08:48.066321Z",
          "iopub.status.busy": "2021-09-17T14:08:48.065607Z",
          "iopub.status.idle": "2021-09-17T14:08:48.068306Z",
          "shell.execute_reply": "2021-09-17T14:08:48.068800Z",
          "shell.execute_reply.started": "2021-09-17T14:05:52.913270Z"
        },
        "papermill": {
          "duration": 0.089059,
          "end_time": "2021-09-17T14:08:48.068969",
          "exception": false,
          "start_time": "2021-09-17T14:08:47.979910",
          "status": "completed"
        },
        "tags": [],
        "colab": {
          "base_uri": "https://localhost:8080/",
          "height": 187
        },
        "id": "049bb5fc",
        "outputId": "cbf7f0f9-5d74-4ba9-ecad-2ae9d95ebe5d"
      },
      "outputs": [
        {
          "output_type": "execute_result",
          "data": {
            "text/plain": [
              "               model           MSE  R2 Score  best_score  \\\n",
              "1   Lasso Regression  3.975194e+06  0.902586    0.803249   \n",
              "0  Linear Regression  4.077029e+06  0.900091    0.788840   \n",
              "2   Ridge Regression  4.661351e+06  0.885772    0.815338   \n",
              "\n",
              "                           best_params  \n",
              "1  {'alpha': 1, 'selection': 'random'}  \n",
              "0              {'fit_intercept': True}  \n",
              "2        {'alpha': 1, 'solver': 'svd'}  "
            ],
            "text/html": [
              "\n",
              "  <div id=\"df-ea4e6b7f-418c-4e7b-a9d8-e6b793dd7a72\">\n",
              "    <div class=\"colab-df-container\">\n",
              "      <div>\n",
              "<style scoped>\n",
              "    .dataframe tbody tr th:only-of-type {\n",
              "        vertical-align: middle;\n",
              "    }\n",
              "\n",
              "    .dataframe tbody tr th {\n",
              "        vertical-align: top;\n",
              "    }\n",
              "\n",
              "    .dataframe thead th {\n",
              "        text-align: right;\n",
              "    }\n",
              "</style>\n",
              "<table border=\"1\" class=\"dataframe\">\n",
              "  <thead>\n",
              "    <tr style=\"text-align: right;\">\n",
              "      <th></th>\n",
              "      <th>model</th>\n",
              "      <th>MSE</th>\n",
              "      <th>R2 Score</th>\n",
              "      <th>best_score</th>\n",
              "      <th>best_params</th>\n",
              "    </tr>\n",
              "  </thead>\n",
              "  <tbody>\n",
              "    <tr>\n",
              "      <th>1</th>\n",
              "      <td>Lasso Regression</td>\n",
              "      <td>3.975194e+06</td>\n",
              "      <td>0.902586</td>\n",
              "      <td>0.803249</td>\n",
              "      <td>{'alpha': 1, 'selection': 'random'}</td>\n",
              "    </tr>\n",
              "    <tr>\n",
              "      <th>0</th>\n",
              "      <td>Linear Regression</td>\n",
              "      <td>4.077029e+06</td>\n",
              "      <td>0.900091</td>\n",
              "      <td>0.788840</td>\n",
              "      <td>{'fit_intercept': True}</td>\n",
              "    </tr>\n",
              "    <tr>\n",
              "      <th>2</th>\n",
              "      <td>Ridge Regression</td>\n",
              "      <td>4.661351e+06</td>\n",
              "      <td>0.885772</td>\n",
              "      <td>0.815338</td>\n",
              "      <td>{'alpha': 1, 'solver': 'svd'}</td>\n",
              "    </tr>\n",
              "  </tbody>\n",
              "</table>\n",
              "</div>\n",
              "      <button class=\"colab-df-convert\" onclick=\"convertToInteractive('df-ea4e6b7f-418c-4e7b-a9d8-e6b793dd7a72')\"\n",
              "              title=\"Convert this dataframe to an interactive table.\"\n",
              "              style=\"display:none;\">\n",
              "        \n",
              "  <svg xmlns=\"http://www.w3.org/2000/svg\" height=\"24px\"viewBox=\"0 0 24 24\"\n",
              "       width=\"24px\">\n",
              "    <path d=\"M0 0h24v24H0V0z\" fill=\"none\"/>\n",
              "    <path d=\"M18.56 5.44l.94 2.06.94-2.06 2.06-.94-2.06-.94-.94-2.06-.94 2.06-2.06.94zm-11 1L8.5 8.5l.94-2.06 2.06-.94-2.06-.94L8.5 2.5l-.94 2.06-2.06.94zm10 10l.94 2.06.94-2.06 2.06-.94-2.06-.94-.94-2.06-.94 2.06-2.06.94z\"/><path d=\"M17.41 7.96l-1.37-1.37c-.4-.4-.92-.59-1.43-.59-.52 0-1.04.2-1.43.59L10.3 9.45l-7.72 7.72c-.78.78-.78 2.05 0 2.83L4 21.41c.39.39.9.59 1.41.59.51 0 1.02-.2 1.41-.59l7.78-7.78 2.81-2.81c.8-.78.8-2.07 0-2.86zM5.41 20L4 18.59l7.72-7.72 1.47 1.35L5.41 20z\"/>\n",
              "  </svg>\n",
              "      </button>\n",
              "      \n",
              "  <style>\n",
              "    .colab-df-container {\n",
              "      display:flex;\n",
              "      flex-wrap:wrap;\n",
              "      gap: 12px;\n",
              "    }\n",
              "\n",
              "    .colab-df-convert {\n",
              "      background-color: #E8F0FE;\n",
              "      border: none;\n",
              "      border-radius: 50%;\n",
              "      cursor: pointer;\n",
              "      display: none;\n",
              "      fill: #1967D2;\n",
              "      height: 32px;\n",
              "      padding: 0 0 0 0;\n",
              "      width: 32px;\n",
              "    }\n",
              "\n",
              "    .colab-df-convert:hover {\n",
              "      background-color: #E2EBFA;\n",
              "      box-shadow: 0px 1px 2px rgba(60, 64, 67, 0.3), 0px 1px 3px 1px rgba(60, 64, 67, 0.15);\n",
              "      fill: #174EA6;\n",
              "    }\n",
              "\n",
              "    [theme=dark] .colab-df-convert {\n",
              "      background-color: #3B4455;\n",
              "      fill: #D2E3FC;\n",
              "    }\n",
              "\n",
              "    [theme=dark] .colab-df-convert:hover {\n",
              "      background-color: #434B5C;\n",
              "      box-shadow: 0px 1px 3px 1px rgba(0, 0, 0, 0.15);\n",
              "      filter: drop-shadow(0px 1px 2px rgba(0, 0, 0, 0.3));\n",
              "      fill: #FFFFFF;\n",
              "    }\n",
              "  </style>\n",
              "\n",
              "      <script>\n",
              "        const buttonEl =\n",
              "          document.querySelector('#df-ea4e6b7f-418c-4e7b-a9d8-e6b793dd7a72 button.colab-df-convert');\n",
              "        buttonEl.style.display =\n",
              "          google.colab.kernel.accessAllowed ? 'block' : 'none';\n",
              "\n",
              "        async function convertToInteractive(key) {\n",
              "          const element = document.querySelector('#df-ea4e6b7f-418c-4e7b-a9d8-e6b793dd7a72');\n",
              "          const dataTable =\n",
              "            await google.colab.kernel.invokeFunction('convertToInteractive',\n",
              "                                                     [key], {});\n",
              "          if (!dataTable) return;\n",
              "\n",
              "          const docLinkHtml = 'Like what you see? Visit the ' +\n",
              "            '<a target=\"_blank\" href=https://colab.research.google.com/notebooks/data_table.ipynb>data table notebook</a>'\n",
              "            + ' to learn more about interactive tables.';\n",
              "          element.innerHTML = '';\n",
              "          dataTable['output_type'] = 'display_data';\n",
              "          await google.colab.output.renderOutput(dataTable, element);\n",
              "          const docLink = document.createElement('div');\n",
              "          docLink.innerHTML = docLinkHtml;\n",
              "          element.appendChild(docLink);\n",
              "        }\n",
              "      </script>\n",
              "    </div>\n",
              "  </div>\n",
              "  "
            ]
          },
          "metadata": {},
          "execution_count": 49
        }
      ],
      "source": [
        "res_sorted=res.sort_values('R2 Score', ascending = False)\n",
        "res_sorted"
      ]
    },
    {
      "cell_type": "code",
      "execution_count": 47,
      "id": "9bf441b2",
      "metadata": {
        "execution": {
          "iopub.execute_input": "2021-09-17T14:08:48.214906Z",
          "iopub.status.busy": "2021-09-17T14:08:48.214198Z",
          "iopub.status.idle": "2021-09-17T14:08:48.221801Z",
          "shell.execute_reply": "2021-09-17T14:08:48.222346Z",
          "shell.execute_reply.started": "2021-09-17T14:05:52.937997Z"
        },
        "papermill": {
          "duration": 0.08393,
          "end_time": "2021-09-17T14:08:48.222564",
          "exception": false,
          "start_time": "2021-09-17T14:08:48.138634",
          "status": "completed"
        },
        "tags": [],
        "id": "9bf441b2"
      },
      "outputs": [],
      "source": [
        "res_sorted.to_csv('result.csv',index=False)"
      ]
    },
    {
      "cell_type": "markdown",
      "id": "3e790c6f",
      "metadata": {
        "papermill": {
          "duration": 0.069317,
          "end_time": "2021-09-17T14:08:48.371399",
          "exception": false,
          "start_time": "2021-09-17T14:08:48.302082",
          "status": "completed"
        },
        "tags": [],
        "id": "3e790c6f"
      },
      "source": [
        "# Final Model"
      ]
    },
    {
      "cell_type": "code",
      "execution_count": 48,
      "id": "a1af285d",
      "metadata": {
        "execution": {
          "iopub.execute_input": "2021-09-17T14:08:48.527848Z",
          "iopub.status.busy": "2021-09-17T14:08:48.523784Z",
          "iopub.status.idle": "2021-09-17T14:08:48.561004Z",
          "shell.execute_reply": "2021-09-17T14:08:48.562021Z",
          "shell.execute_reply.started": "2021-09-17T14:05:52.946765Z"
        },
        "papermill": {
          "duration": 0.118727,
          "end_time": "2021-09-17T14:08:48.562300",
          "exception": false,
          "start_time": "2021-09-17T14:08:48.443573",
          "status": "completed"
        },
        "tags": [],
        "colab": {
          "base_uri": "https://localhost:8080/"
        },
        "id": "a1af285d",
        "outputId": "b5e2a952-f9a3-422a-e550-12e442d59186"
      },
      "outputs": [
        {
          "output_type": "stream",
          "name": "stdout",
          "text": [
            "Mean Squared Error: 3978836.8011108437\n",
            "Regression Score(r2): 0.9024972242611891\n"
          ]
        }
      ],
      "source": [
        "X_train, X_test, Y_train, Y_test = train_test_split(X, Y, test_size=0.25, random_state=50)\n",
        "model=Lasso(alpha=1, selection='cyclic')\n",
        "model.fit(X_train, Y_train)\n",
        "Y_test_pred=model.predict(X_test)\n",
        "test_error=mean_squared_error(Y_test, Y_test_pred)\n",
        "r2score=r2_score(Y_test, Y_test_pred) \n",
        "print('Mean Squared Error: {}'.format(test_error))\n",
        "print('Regression Score(r2): {}'.format(r2score))"
      ]
    }
  ],
  "metadata": {
    "kernelspec": {
      "display_name": "Python 3",
      "language": "python",
      "name": "python3"
    },
    "language_info": {
      "codemirror_mode": {
        "name": "ipython",
        "version": 3
      },
      "file_extension": ".py",
      "mimetype": "text/x-python",
      "name": "python",
      "nbconvert_exporter": "python",
      "pygments_lexer": "ipython3",
      "version": "3.7.10"
    },
    "papermill": {
      "default_parameters": {},
      "duration": 39.914521,
      "end_time": "2021-09-17T14:08:49.846916",
      "environment_variables": {},
      "exception": null,
      "input_path": "__notebook__.ipynb",
      "output_path": "__notebook__.ipynb",
      "parameters": {},
      "start_time": "2021-09-17T14:08:09.932395",
      "version": "2.3.3"
    },
    "colab": {
      "provenance": []
    }
  },
  "nbformat": 4,
  "nbformat_minor": 5
}